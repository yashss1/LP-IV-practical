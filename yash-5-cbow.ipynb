{
 "cells": [
  {
   "cell_type": "code",
   "execution_count": 4,
   "id": "6f86729c",
   "metadata": {},
   "outputs": [],
   "source": [
    "import numpy as np\n",
    "import pandas as pd\n",
    "import tensorflow as tf\n",
    "from tensorflow.keras.layers import Embedding, GlobalMaxPooling1D, Dense\n",
    "from tensorflow.keras.models import Sequential\n",
    "from tensorflow.keras.preprocessing.text import Tokenizer\n",
    "from tensorflow.keras.preprocessing.sequence import pad_sequences\n",
    "\n",
    "from sklearn.metrics.pairwise import cosine_similarity"
   ]
  },
  {
   "cell_type": "code",
   "execution_count": 6,
   "id": "429780cb",
   "metadata": {},
   "outputs": [],
   "source": [
    "file_path = './LP-IV-datasets/CBOW/CBOW.txt'\n",
    "\n",
    "with open(file_path, 'r') as file:\n",
    "    file_contents = file.read()"
   ]
  },
  {
   "cell_type": "code",
   "execution_count": 7,
   "id": "4fec4979",
   "metadata": {},
   "outputs": [
    {
     "data": {
      "text/plain": [
       "'The speed of transmission is an important point of difference between the two viruses. Influenza has a shorter median incubation period (the time from infection to appearance of symptoms) and a shorter serial interval (the time between successive cases) than COVID-19 virus. The serial interval for COVID-19 virus is estimated to be 5-6 days, while for influenza virus, the serial interval is 3 days. This means that influenza can spread faster than COVID-19. \\n\\nFurther, transmission in the first 3-5 days of illness, or potentially pre-symptomatic transmission –transmission of the virus before the appearance of symptoms – is a major driver of transmission for influenza. In contrast, while we are learning that there are people who can shed COVID-19 virus 24-48 hours prior to symptom onset, at present, this does not appear to be a major driver of transmission. \\n\\nThe reproductive number – the number of secondary infections generated from one infected individual – is understood to be between 2 and 2.5 for COVID-19 virus, higher than for influenza. However, estimates for both COVID-19 and influenza viruses are very context and time-specific, making direct comparisons more difficult.  '"
      ]
     },
     "execution_count": 7,
     "metadata": {},
     "output_type": "execute_result"
    }
   ],
   "source": [
    "file_contents"
   ]
  },
  {
   "cell_type": "code",
   "execution_count": 8,
   "id": "36b9bd79",
   "metadata": {},
   "outputs": [],
   "source": [
    "sentences = file_contents.split('.')"
   ]
  },
  {
   "cell_type": "code",
   "execution_count": 13,
   "id": "05b49caf",
   "metadata": {},
   "outputs": [],
   "source": [
    "tokenizer = Tokenizer()\n",
    "tokenizer.fit_on_texts(sentences)\n",
    "total_words = len(tokenizer.word_index) + 1\n",
    "\n",
    "window_size = 3\n",
    "tokenized_sentences = tokenizer.texts_to_sequences(sentences)\n",
    "\n",
    "data, labels = [], []\n",
    "\n",
    "for sentence in tokenized_sentences:\n",
    "    for i, target_word in enumerate(sentence):\n",
    "        context = [\n",
    "            sentence[j] for j in range(i - window_size, i + window_size + 1)\n",
    "            if j != i and 0 <= j < len(sentence)\n",
    "        ]\n",
    "        data.append(context)\n",
    "        labels.append(target_word)\n",
    "        \n",
    "data = pad_sequences(data)\n",
    "labels = np.array(labels)"
   ]
  },
  {
   "cell_type": "code",
   "execution_count": 18,
   "id": "fb827721",
   "metadata": {},
   "outputs": [
    {
     "name": "stdout",
     "output_type": "stream",
     "text": [
      "Model: \"sequential_4\"\n",
      "_________________________________________________________________\n",
      " Layer (type)                Output Shape              Param #   \n",
      "=================================================================\n",
      " embedding_3 (Embedding)     (None, 6, 50)             5150      \n",
      "                                                                 \n",
      " global_max_pooling1d_2 (Gl  (None, 50)                0         \n",
      " obalMaxPooling1D)                                               \n",
      "                                                                 \n",
      " dense_1 (Dense)             (None, 103)               5253      \n",
      "                                                                 \n",
      "=================================================================\n",
      "Total params: 10403 (40.64 KB)\n",
      "Trainable params: 10403 (40.64 KB)\n",
      "Non-trainable params: 0 (0.00 Byte)\n",
      "_________________________________________________________________\n"
     ]
    }
   ],
   "source": [
    "model = Sequential()\n",
    "model.add(Embedding(input_dim = total_words, output_dim = 50, input_length = window_size * 2))\n",
    "model.add(GlobalMaxPooling1D())\n",
    "model.add(Dense(total_words, activation = 'softmax'))\n",
    "\n",
    "model.summary()"
   ]
  },
  {
   "cell_type": "code",
   "execution_count": 21,
   "id": "c46c8dc4",
   "metadata": {},
   "outputs": [],
   "source": [
    "model.compile(optimizer = 'adam', metrics = ['accuracy'], loss = 'sparse_categorical_crossentropy')"
   ]
  },
  {
   "cell_type": "code",
   "execution_count": null,
   "id": "68cc7fa6",
   "metadata": {},
   "outputs": [],
   "source": [
    "model.fit(data, labels, epochs = 200, verbose = 1)"
   ]
  },
  {
   "cell_type": "code",
   "execution_count": 35,
   "id": "9cf7ca41",
   "metadata": {},
   "outputs": [
    {
     "data": {
      "text/plain": [
       "array([[-0.29338855, -0.36919317, -0.25913265, ...,  0.55457073,\n",
       "        -0.27990696, -0.29657188],\n",
       "       [-0.2924454 , -0.26446927,  0.9963598 , ..., -0.1663595 ,\n",
       "        -0.28159782, -0.28429142],\n",
       "       [-0.2926269 , -0.32237428, -0.20211813, ..., -0.29282713,\n",
       "         0.91963553, -0.28594324],\n",
       "       ...,\n",
       "       [-0.28385955, -0.24094178, -0.24471655, ..., -0.01307701,\n",
       "        -0.28086254, -0.26331747],\n",
       "       [-0.28379327, -0.2400152 , -0.24442363, ..., -0.0207559 ,\n",
       "        -0.28011993, -0.26325712],\n",
       "       [-0.2866952 , -0.00583646, -0.00885593, ...,  0.25312158,\n",
       "        -0.27885467, -0.256797  ]], dtype=float32)"
      ]
     },
     "execution_count": 35,
     "metadata": {},
     "output_type": "execute_result"
    }
   ],
   "source": [
    "word_embeddings = model.layers[0].get_weights()[0]\n",
    "word_embeddings"
   ]
  },
  {
   "cell_type": "code",
   "execution_count": 43,
   "id": "064cf327",
   "metadata": {},
   "outputs": [
    {
     "name": "stdout",
     "output_type": "stream",
     "text": [
      "['between', 'infection', 'individual', 'however', 'context']\n"
     ]
    }
   ],
   "source": [
    "target_word = 'infection'\n",
    "target_embedding = word_embeddings[tokenizer.word_index[target_word]]\n",
    "\n",
    "similarities = cosine_similarity(target_embedding.reshape(1, -1), word_embeddings)[0]\n",
    "most_similar_indices = similarities.argsort()[-5:][::1]\n",
    "\n",
    "most_similar_words = [word for word, idx in tokenizer.word_index.items() if idx in most_similar_indices]\n",
    "\n",
    "print(most_similar_words)"
   ]
  },
  {
   "cell_type": "code",
   "execution_count": null,
   "id": "98829f51",
   "metadata": {},
   "outputs": [],
   "source": []
  }
 ],
 "metadata": {
  "kernelspec": {
   "display_name": "Python 3 (ipykernel)",
   "language": "python",
   "name": "python3"
  },
  "language_info": {
   "codemirror_mode": {
    "name": "ipython",
    "version": 3
   },
   "file_extension": ".py",
   "mimetype": "text/x-python",
   "name": "python",
   "nbconvert_exporter": "python",
   "pygments_lexer": "ipython3",
   "version": "3.11.5"
  }
 },
 "nbformat": 4,
 "nbformat_minor": 5
}
